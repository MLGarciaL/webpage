{
 "cells": [
  {
   "cell_type": "markdown",
   "id": "fedbb9e8-d43c-4b20-a6ca-19d261fd2896",
   "metadata": {},
   "source": [
    "# Moments\n",
    "\n",
    "**Definition: Moments** *If $X$ is a random variable, the rth moment of $X$, usually denoted by $\\mu_r'$ is defined as:*\n",
    "\n",
    "$$\\mu_r' = \\mathscr E\\left[X^r\\right]$$\n",
    "\n",
    "Trying to give an interpretation to each movement, for that I use UC distribution:"
   ]
  },
  {
   "cell_type": "code",
   "execution_count": 1,
   "id": "0b419db3-8455-4bdd-9d27-276e97bbc84e",
   "metadata": {},
   "outputs": [
    {
     "data": {
      "application/vnd.jupyter.widget-view+json": {
       "model_id": "67b4d73adb0c4376a88f8c60406dccc1",
       "version_major": 2,
       "version_minor": 0
      },
      "text/plain": [
       "HBox(children=(VBox(children=(Dropdown(description='Distribution:', options=('Uniform', 'Normal', 'Exponential…"
      ]
     },
     "metadata": {},
     "output_type": "display_data"
    },
    {
     "data": {
      "application/vnd.jupyter.widget-view+json": {
       "model_id": "0cffaa7818304f8fa7b94f9e1170a926",
       "version_major": 2,
       "version_minor": 0
      },
      "text/plain": [
       "Output()"
      ]
     },
     "metadata": {},
     "output_type": "display_data"
    }
   ],
   "source": [
    "# Creating an interactive horizontal subplot showing:\n",
    "# 1) a function X(x) = a*x + b (linear by default)\n",
    "# 2) a probability density function (selectable)\n",
    "# 3) the product X(x) * pdf(x)\n",
    "# Also computes raw moment mu_r' = E[X^r] for an adjustable r (here E is w.r.t. the pdf on the chosen support).\n",
    "#\n",
    "# This runs in the notebook environment and uses matplotlib + ipywidgets.\n",
    "# If ipywidgets doesn't render automatically in your environment, try running this in a Jupyter notebook/lab\n",
    "# with the ipywidgets extension enabled.\n",
    "#\n",
    "# NOTE: charts use matplotlib (no seaborn) and each chart is on its own axis (no shared colors specified).\n",
    "\n",
    "import numpy as np\n",
    "import matplotlib.pyplot as plt\n",
    "from scipy.stats import norm, expon, uniform\n",
    "from ipywidgets import interact, interactive_output, FloatSlider, Dropdown, IntSlider, VBox, HBox, fixed, Checkbox\n",
    "from IPython.display import display, HTML\n",
    "\n",
    "def compute_moment(x, pdf, r):\n",
    "    # raw moment E[X^r] using numeric integration\n",
    "    integrand = (x**r) * pdf\n",
    "    return round(np.trapezoid(integrand, x),2)\n",
    "\n",
    "def update(dist, xmin, xmax,\n",
    "           r, # moment order\n",
    "           # distribution params\n",
    "           mu, sigma, lam, normalize_display):\n",
    "    x = np.linspace(-10, 10, 2000)\n",
    "    Xx = x**r\n",
    "    \n",
    "    # choose pdf\n",
    "    if dist == \"Uniform\":\n",
    "        pdf = uniform.pdf(x, loc=round(xmin,0), scale=(round(xmax,0) - round(xmin,0)))\n",
    "        dist_info = f\"Uniform on [{round(xmin,0)}, {round(xmax,0)}]\"\n",
    "    elif dist == \"Normal\":\n",
    "        pdf = norm.pdf(x,round(mu,2),round(sigma,2))\n",
    "        dist_info = f\"Truncated Normal μ={round(mu,2)}, σ={round(sigma,2)}\"\n",
    "    elif dist == \"Exponential\":\n",
    "        pdf = expon(x, round(lam,2))\n",
    "        dist_info = f\"Shifted Exponential λ={round(lam,2)}\"\n",
    "    else:\n",
    "        pdf = uniform.pdf(x, loc=round(xmin,0), scale=(round(xmax,0) - round(xmin,0)))\n",
    "        dist_info = \"Uniform (fallback)\"\n",
    "    \n",
    "    # compute product: here we interpret \"multiplication of this two\" as X(x)*pdf(x)\n",
    "    product = Xx * pdf\n",
    "    \n",
    "    # compute raw moments numerically for X (the random variable is the *domain variable* x)\n",
    "    mu_r = compute_moment(x, pdf, r)\n",
    "    mu_1 = compute_moment(x, pdf, 1)\n",
    "    mu_2 = compute_moment(x, pdf, 2)\n",
    "    \n",
    "    # plotting - horizontal (1 row, 3 columns)\n",
    "    fig, axes = plt.subplots(1, 3, figsize=(15, 4))\n",
    "    \n",
    "    # 1) function X(x)\n",
    "    axes[0].plot(x, Xx)\n",
    "    axes[0].set_title(f\"Function X(x) = x^{r}\")\n",
    "    axes[0].set_xlabel(\"x\")\n",
    "    axes[0].set_ylabel(\"X(x)\")\n",
    "    axes[0].set_xlim(-10,10)\n",
    "    axes[0].set_ylim(-10,10)\n",
    "    axes[0].grid(ls ='dashed', lw = 0.5)\n",
    "    \n",
    "    # 2) pdf\n",
    "    axes[1].plot(x, pdf)\n",
    "    axes[1].set_title(\"Probability density function (pdf)\")\n",
    "    axes[1].set_xlabel(\"x\")\n",
    "    axes[1].set_ylabel(\"pdf(x)\")\n",
    "    axes[1].text(0.02, 0.95, dist_info, transform=axes[1].transAxes, va='top', ha='left', fontsize=9)\n",
    "    axes[1].set_xlim(-10,10)\n",
    "    axes[1].grid(ls ='dashed', lw = 0.5)\n",
    "    \n",
    "    # 3) product\n",
    "    axes[2].plot(x, product)\n",
    "    axes[2].set_title(\"Product X(x) * pdf(x)\")\n",
    "    axes[2].set_xlabel(\"x\")\n",
    "    axes[2].set_ylabel(\"X(x) * pdf(x)\")\n",
    "    axes[2].set_xlim(-10,10)\n",
    "    axes[2].grid(ls ='dashed', lw = 0.5)\n",
    "    \n",
    "    plt.tight_layout()\n",
    "    plt.show()\n",
    "    \n",
    "    # display computed moments\n",
    "    display(HTML(f\"<b>Computed raw moments (numerical)</b>: E[x] = {mu_1:.2g}, E[x^2] = {mu_2:.2g}, E[x^{r}] = {mu_r:.2g}\"))\n",
    "    display(HTML(\"<i>Note:</i> moments are with respect to the pdf shown (domain variable is x).\"))\n",
    "    \n",
    "\n",
    "# Create widgets\n",
    "dist_widget = Dropdown(options=[\"Uniform\", \"Normal\", \"Exponential\"],\n",
    "                       value=\"Uniform\", description=\"Distribution:\")\n",
    "\n",
    "xmin_slider = FloatSlider(value=0, min=-10, max=10, step=1, description=\"xmin:\")\n",
    "xmax_slider = FloatSlider(value=1, min=-10, max=10, step=1, description=\"xmax:\")\n",
    "\n",
    "r_slider = IntSlider(value=1, min=0, max=6, step=1, description=\"r (moment):\")\n",
    "\n",
    "# distribution-specific widgets\n",
    "mu_slider = FloatSlider(value=0.0, min=-5.0, max=5.0, step=0.1, description=\"μ:\")\n",
    "sigma_slider = FloatSlider(value=1.0, min=0.1, max=5.0, step=0.1, description=\"σ:\")\n",
    "lam_slider = FloatSlider(value=1.0, min=0.01, max=5.0, step=0.01, description=\"λ:\")\n",
    "\n",
    "# link xmax min constraint: ensure xmax > xmin visually (user can still set equal but grid will be fine)\n",
    "def on_xmin_change(change):\n",
    "    # ensure xmax slider min is slightly above xmin\n",
    "    new_min = change['new'] + 0.01\n",
    "    if xmax_slider.min <= new_min:\n",
    "        xmax_slider.min = new_min\n",
    "\n",
    "xmin_slider.observe(on_xmin_change, names='value')\n",
    "\n",
    "ui_left = VBox([dist_widget, VBox([xmin_slider, xmax_slider])])\n",
    "ui_right = VBox([r_slider])\n",
    "ui_params = VBox([mu_slider, sigma_slider, lam_slider])\n",
    "\n",
    "ui = HBox([ui_left, ui_right, ui_params])\n",
    "\n",
    "out = interactive_output(update, {\n",
    "    'dist': dist_widget,\n",
    "    'xmin': xmin_slider,\n",
    "    'xmax': xmax_slider,\n",
    "    'r': r_slider,\n",
    "    'mu': mu_slider,\n",
    "    'sigma': sigma_slider,\n",
    "    'lam': lam_slider,\n",
    "    'normalize_display': fixed(True)\n",
    "})\n",
    "\n",
    "display(ui, out)\n"
   ]
  },
  {
   "cell_type": "markdown",
   "id": "5d71d8ca-65fe-4bb2-b4b5-b301b6c979ab",
   "metadata": {},
   "source": [
    "**Definition: Central moments** *If $X$ is a random variable, the rth central moment of $X$ about $a$ is defined as*\n",
    "\n",
    "$$\\mathscr E\\left[\\left(X - a\\right)^r\\right]$$\n",
    "\n",
    "*If $a = \\mu_X$, we have the rth central moment of $X$ about $\\mu_X$, denored by $\\mu_r$, which is:*\n",
    "\n",
    "$$\\mu_r = \\mathscr E\\left[\\left(X - \\mu_X\\right)^r\\right]$$\n",
    "\n"
   ]
  },
  {
   "cell_type": "code",
   "execution_count": 4,
   "id": "c7d8353d-ceac-4270-8c0d-9191ad336f09",
   "metadata": {
    "jupyter": {
     "source_hidden": true
    }
   },
   "outputs": [
    {
     "data": {
      "application/vnd.jupyter.widget-view+json": {
       "model_id": "4b8b7e19494d409a8c1a637d52bcb0f7",
       "version_major": 2,
       "version_minor": 0
      },
      "text/plain": [
       "HBox(children=(VBox(children=(Dropdown(description='Distribution:', options=('Uniform', 'Normal', 'Exponential…"
      ]
     },
     "metadata": {},
     "output_type": "display_data"
    },
    {
     "data": {
      "application/vnd.jupyter.widget-view+json": {
       "model_id": "ed91b53ace3c4a1f855a86e9c762510d",
       "version_major": 2,
       "version_minor": 0
      },
      "text/plain": [
       "Output()"
      ]
     },
     "metadata": {},
     "output_type": "display_data"
    }
   ],
   "source": [
    "# Creating an interactive horizontal subplot showing:\n",
    "# 1) a function X(x) = a*x + b (linear by default)\n",
    "# 2) a probability density function (selectable)\n",
    "# 3) the product X(x) * pdf(x)\n",
    "# Also computes raw moment mu_r' = E[X^r] for an adjustable r (here E is w.r.t. the pdf on the chosen support).\n",
    "#\n",
    "# This runs in the notebook environment and uses matplotlib + ipywidgets.\n",
    "# If ipywidgets doesn't render automatically in your environment, try running this in a Jupyter notebook/lab\n",
    "# with the ipywidgets extension enabled.\n",
    "#\n",
    "# NOTE: charts use matplotlib (no seaborn) and each chart is on its own axis (no shared colors specified).\n",
    "\n",
    "import numpy as np\n",
    "import matplotlib.pyplot as plt\n",
    "from scipy.stats import norm, expon, uniform\n",
    "from ipywidgets import interact, interactive_output, FloatSlider, Dropdown, IntSlider, VBox, HBox, fixed, Checkbox\n",
    "from IPython.display import display, HTML\n",
    "\n",
    "def compute_moment(Xx, pdf, r):\n",
    "    # raw moment E[X^r] using numeric integration\n",
    "    integrand = Xx* pdf\n",
    "    return round(np.trapezoid(integrand, Xx),2)\n",
    "\n",
    "def update(dist, xmin, xmax,\n",
    "           r, # moment order\n",
    "           # distribution params\n",
    "           mu, sigma, lam, normalize_display):\n",
    "    x = np.linspace(-10, 10, 2000)\n",
    "    \n",
    "    # choose pdf\n",
    "    if dist == \"Uniform\":\n",
    "        pdf = uniform.pdf(x, loc=round(xmin,0), scale=(round(xmax,0) - round(xmin,0)))\n",
    "        mean = uniform.mean(loc=round(xmin,0), scale=(round(xmax,0) - round(xmin,0)))\n",
    "        dist_info = f\"Uniform on [{round(xmin,0)}, {round(xmax,0)}]\"\n",
    "    elif dist == \"Normal\":\n",
    "        pdf = norm.pdf(x,round(mu,2),round(sigma,2))\n",
    "        mean = norm.mean(round(mu,2),round(sigma,2))\n",
    "        dist_info = f\"Truncated Normal μ={round(mu,2)}, σ={round(sigma,2)}\"\n",
    "    elif dist == \"Exponential\":\n",
    "        pdf = expon.pdf(x, round(lam,2))\n",
    "        mean = expon.mean(round(lam,2))\n",
    "        dist_info = f\"Shifted Exponential λ={round(lam,2)}\"\n",
    "    else:\n",
    "        pdf = uniform.pdf(x, loc=round(xmin,0), scale=(round(xmax,0) - round(xmin,0)))\n",
    "        mean = uniform.mean(loc=round(xmin,0), scale=(round(xmax,0) - round(xmin,0)))\n",
    "        dist_info = \"Uniform (fallback)\"\n",
    "\n",
    "    Xx = (x-mean)**r\n",
    "    \n",
    "    # compute product: here we interpret \"multiplication of this two\" as X(x)*pdf(x)\n",
    "    product = Xx * pdf\n",
    "    \n",
    "    # compute raw moments numerically for X (the random variable is the *domain variable* x)\n",
    "    mu_r = compute_moment(Xx, pdf, r)\n",
    "    mu_1 = compute_moment((x-mean), pdf, 1)\n",
    "    mu_2 = compute_moment((x-mean)**2, pdf, 2)\n",
    "    \n",
    "    # plotting - horizontal (1 row, 3 columns)\n",
    "    fig, axes = plt.subplots(1, 3, figsize=(15, 4))\n",
    "    \n",
    "    # 1) function X(x)\n",
    "    axes[0].plot(x, x**r, alpha = 0.1, c = 'red')\n",
    "    axes[0].plot(x, Xx)\n",
    "    axes[0].set_title(f\"Function X(x) = (x - $\\mu$)^{r}\")\n",
    "    axes[0].set_xlabel(\"x\")\n",
    "    axes[0].set_ylabel(\"X(x)\")\n",
    "    axes[0].set_xlim(-10,10)\n",
    "    axes[0].set_ylim(-10,10)\n",
    "    axes[0].grid(ls ='dashed', lw = 0.5)\n",
    "    \n",
    "    # 2) pdf\n",
    "    axes[1].plot(x, pdf)\n",
    "    axes[1].set_title(\"Probability density function (pdf)\")\n",
    "    axes[1].set_xlabel(\"x\")\n",
    "    axes[1].set_ylabel(\"pdf(x)\")\n",
    "    axes[1].text(0.02, 0.95, dist_info, transform=axes[1].transAxes, va='top', ha='left', fontsize=9)\n",
    "    axes[1].set_xlim(-10,10)\n",
    "    axes[1].grid(ls ='dashed', lw = 0.5)\n",
    "    \n",
    "    # 3) product\n",
    "    axes[2].plot(x, x**r*pdf, alpha = 0.1, c = 'red')\n",
    "    axes[2].plot(x, product)\n",
    "    axes[2].set_title(\"Product X(x) * pdf(x)\")\n",
    "    axes[2].set_xlabel(\"x\")\n",
    "    axes[2].set_ylabel(\"X(x) * pdf(x)\")\n",
    "    axes[2].set_xlim(-10,10)\n",
    "    axes[2].grid(ls ='dashed', lw = 0.5)\n",
    "    \n",
    "    plt.tight_layout()\n",
    "    plt.show()\n",
    "    \n",
    "    # display computed moments\n",
    "    display(HTML(f\"<b>Computed raw moments (numerical)</b>: E[x] = {mu_1:.2g}, E[x^2] = {mu_2:.2g}, E[x^{r}] = {mu_r:.2g}\"))\n",
    "    display(HTML(\"<i>Note:</i> moments are with respect to the pdf shown (domain variable is x).\"))\n",
    "    \n",
    "\n",
    "# Create widgets\n",
    "dist_widget = Dropdown(options=[\"Uniform\", \"Normal\", \"Exponential\"],\n",
    "                       value=\"Uniform\", description=\"Distribution:\")\n",
    "\n",
    "xmin_slider = FloatSlider(value=0, min=-10, max=10, step=1, description=\"xmin:\")\n",
    "xmax_slider = FloatSlider(value=1, min=-10, max=10, step=1, description=\"xmax:\")\n",
    "\n",
    "r_slider = IntSlider(value=1, min=0, max=6, step=1, description=\"r (moment):\")\n",
    "\n",
    "# distribution-specific widgets\n",
    "mu_slider = FloatSlider(value=0.0, min=-5.0, max=5.0, step=0.1, description=\"μ:\")\n",
    "sigma_slider = FloatSlider(value=1.0, min=0.1, max=5.0, step=0.1, description=\"σ:\")\n",
    "lam_slider = FloatSlider(value=1.0, min=0.01, max=5.0, step=0.01, description=\"λ:\")\n",
    "\n",
    "# link xmax min constraint: ensure xmax > xmin visually (user can still set equal but grid will be fine)\n",
    "def on_xmin_change(change):\n",
    "    # ensure xmax slider min is slightly above xmin\n",
    "    new_min = change['new'] + 0.01\n",
    "    if xmax_slider.min <= new_min:\n",
    "        xmax_slider.min = new_min\n",
    "\n",
    "xmin_slider.observe(on_xmin_change, names='value')\n",
    "\n",
    "ui_left = VBox([dist_widget, VBox([xmin_slider, xmax_slider])])\n",
    "ui_right = VBox([r_slider])\n",
    "ui_params = VBox([mu_slider, sigma_slider, lam_slider])\n",
    "\n",
    "ui = HBox([ui_left, ui_right, ui_params])\n",
    "\n",
    "out = interactive_output(update, {\n",
    "    'dist': dist_widget,\n",
    "    'xmin': xmin_slider,\n",
    "    'xmax': xmax_slider,\n",
    "    'r': r_slider,\n",
    "    'mu': mu_slider,\n",
    "    'sigma': sigma_slider,\n",
    "    'lam': lam_slider,\n",
    "    'normalize_display': fixed(True)\n",
    "})\n",
    "\n",
    "display(ui, out)\n"
   ]
  },
  {
   "cell_type": "markdown",
   "id": "39009169-f70b-4b10-a89b-9df0da239839",
   "metadata": {},
   "source": [
    "*Interpretation:*\n",
    "\n",
    "For the **zero-th moment**, nothing about the actual distribution matters except that it integrates to one. It does not put any weight on the variable values themselves; it is purely a statement that probability mass is normalized.\n",
    "\n",
    "When we move to the **first moment**, now the variable values begin to matter: each outcome is weighted by its associated probability. This is why the first moment corresponds to the mean — it is the value around which the probability “balances.”\n",
    "\n",
    "At the **second moment**, the contributions grow with the square of the distance from zero. Outcomes further away from the origin contribute disproportionately more, so it's a measure that tries to capture how **spread** the values are from zero. This is why, once centered at the mean, the second moment becomes the variance: it measures how spread out the distribution is, how far typical values lie from the central location.\n",
    "\n",
    "With the **third moment**, the sign of the deviation comes into play. Positive values far from the mean push the moment upward, while negative values far from the mean pull it downward. A negative third moment indicates that the left tail of the distribution is heavier, while a positive one signals that the right tail is heavier. In other words, the third moment captures the **skewness** of the distribution — whether probability mass leans more to the left or to the right.\n",
    "\n",
    "At the **fourth moment**, distance takes on an even greater role. Values that lie far away from the mean contribute not just more, but overwhelmingly more, because the deviation is raised to the fourth power. This moment is sensitive to the tails of the distribution: whether probability is concentrated tightly around the mean or spread into rare but extreme values. Once standardized, it yields the **kurtosis**, which distinguishes between thin-tailed and heavy-tailed behaviors."
   ]
  }
 ],
 "metadata": {
  "kernelspec": {
   "display_name": "Python 3 (ipykernel)",
   "language": "python",
   "name": "python3"
  },
  "language_info": {
   "codemirror_mode": {
    "name": "ipython",
    "version": 3
   },
   "file_extension": ".py",
   "mimetype": "text/x-python",
   "name": "python",
   "nbconvert_exporter": "python",
   "pygments_lexer": "ipython3",
   "version": "3.11.5"
  },
  "widgets": {
   "application/vnd.jupyter.widget-state+json": {
    "state": {
     "02d8f34bd720468db2420784fdc5a67f": {
      "model_module": "@jupyter-widgets/controls",
      "model_module_version": "2.0.0",
      "model_name": "SliderStyleModel",
      "state": {
       "description_width": ""
      }
     },
     "0cffaa7818304f8fa7b94f9e1170a926": {
      "model_module": "@jupyter-widgets/output",
      "model_module_version": "1.0.0",
      "model_name": "OutputModel",
      "state": {
       "layout": "IPY_MODEL_5ab5c225f4c94b28a6c4b2d494246b95",
       "outputs": [
        {
         "data": {
          "image/png": "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",
          "text/plain": "<Figure size 1500x400 with 3 Axes>"
         },
         "metadata": {},
         "output_type": "display_data"
        },
        {
         "data": {
          "text/html": "<b>Computed raw moments (numerical)</b>: E[x] = 0.5, E[x^2] = 0.33, E[x^1] = 0.5",
          "text/plain": "<IPython.core.display.HTML object>"
         },
         "metadata": {},
         "output_type": "display_data"
        },
        {
         "data": {
          "text/html": "<i>Note:</i> moments are with respect to the pdf shown (domain variable is x).",
          "text/plain": "<IPython.core.display.HTML object>"
         },
         "metadata": {},
         "output_type": "display_data"
        }
       ]
      }
     },
     "148e7f0f149e4787b92ca3323b43fcbf": {
      "model_module": "@jupyter-widgets/controls",
      "model_module_version": "2.0.0",
      "model_name": "FloatSliderModel",
      "state": {
       "behavior": "drag-tap",
       "description": "σ:",
       "layout": "IPY_MODEL_d40d724f367549e7812db0ff83add00f",
       "max": 5,
       "min": 0.1,
       "step": 0.1,
       "style": "IPY_MODEL_c1bf68c84ae044bc9ea5d6167a1084d3",
       "value": 1.0000000000000002
      }
     },
     "36f662615d7a4012b768f9be8d2bca3e": {
      "model_module": "@jupyter-widgets/controls",
      "model_module_version": "2.0.0",
      "model_name": "SliderStyleModel",
      "state": {
       "description_width": ""
      }
     },
     "3a01100508cb4749ac10929a99f93dcc": {
      "model_module": "@jupyter-widgets/controls",
      "model_module_version": "2.0.0",
      "model_name": "VBoxModel",
      "state": {
       "children": [
        "IPY_MODEL_dda6b74e7c2b4f4190e76b73d056972d",
        "IPY_MODEL_a30a825eae7a4073bc3bf5283e0428ca"
       ],
       "layout": "IPY_MODEL_7e6a721a7a204c2d8f8aaa5c99a85a8f"
      }
     },
     "4e8dc54ca13e41c1b5bd093c8544b241": {
      "model_module": "@jupyter-widgets/base",
      "model_module_version": "2.0.0",
      "model_name": "LayoutModel",
      "state": {}
     },
     "56f672d4bab24cfebae20be32732ed31": {
      "model_module": "@jupyter-widgets/base",
      "model_module_version": "2.0.0",
      "model_name": "LayoutModel",
      "state": {}
     },
     "5ab5c225f4c94b28a6c4b2d494246b95": {
      "model_module": "@jupyter-widgets/base",
      "model_module_version": "2.0.0",
      "model_name": "LayoutModel",
      "state": {}
     },
     "62550424045d49948e06f4ae7ae2b644": {
      "model_module": "@jupyter-widgets/base",
      "model_module_version": "2.0.0",
      "model_name": "LayoutModel",
      "state": {}
     },
     "6346cc03f5274965867e031416bb3399": {
      "model_module": "@jupyter-widgets/controls",
      "model_module_version": "2.0.0",
      "model_name": "SliderStyleModel",
      "state": {
       "description_width": ""
      }
     },
     "659de2026c1c4f54b4336ce9750505f4": {
      "model_module": "@jupyter-widgets/controls",
      "model_module_version": "2.0.0",
      "model_name": "SliderStyleModel",
      "state": {
       "description_width": ""
      }
     },
     "67b4d73adb0c4376a88f8c60406dccc1": {
      "model_module": "@jupyter-widgets/controls",
      "model_module_version": "2.0.0",
      "model_name": "HBoxModel",
      "state": {
       "children": [
        "IPY_MODEL_deb16e55fbc24c98bf8f422ec126165e",
        "IPY_MODEL_e07827914ab84defbe48d93b402e5853",
        "IPY_MODEL_eab22912548e45b18e4d463c06757362"
       ],
       "layout": "IPY_MODEL_fa1c5d1248be4074ba39b589b466be22"
      }
     },
     "710d6483bffc40fa8d07b7ed79b8bae1": {
      "model_module": "@jupyter-widgets/controls",
      "model_module_version": "2.0.0",
      "model_name": "FloatSliderModel",
      "state": {
       "behavior": "drag-tap",
       "description": "λ:",
       "layout": "IPY_MODEL_8e3b72fd3a8b43b8a60eb502cd331072",
       "max": 5,
       "min": 0.01,
       "step": 0.01,
       "style": "IPY_MODEL_6346cc03f5274965867e031416bb3399",
       "value": 1
      }
     },
     "77efa371781f4787ade9e8fd83b6328c": {
      "model_module": "@jupyter-widgets/controls",
      "model_module_version": "2.0.0",
      "model_name": "FloatSliderModel",
      "state": {
       "behavior": "drag-tap",
       "description": "μ:",
       "layout": "IPY_MODEL_da690d3ed50649bcb2fa90020ed43bf1",
       "max": 5,
       "min": -5,
       "step": 0.1,
       "style": "IPY_MODEL_659de2026c1c4f54b4336ce9750505f4"
      }
     },
     "7e6a721a7a204c2d8f8aaa5c99a85a8f": {
      "model_module": "@jupyter-widgets/base",
      "model_module_version": "2.0.0",
      "model_name": "LayoutModel",
      "state": {}
     },
     "86647e74e2a846a6a1eef86799f90a25": {
      "model_module": "@jupyter-widgets/base",
      "model_module_version": "2.0.0",
      "model_name": "LayoutModel",
      "state": {}
     },
     "8c26444fa7c3482097ce96b5112f8fe6": {
      "model_module": "@jupyter-widgets/base",
      "model_module_version": "2.0.0",
      "model_name": "LayoutModel",
      "state": {}
     },
     "8e3b72fd3a8b43b8a60eb502cd331072": {
      "model_module": "@jupyter-widgets/base",
      "model_module_version": "2.0.0",
      "model_name": "LayoutModel",
      "state": {}
     },
     "a2902c0fa69e45f1aa3d03b6c316966f": {
      "model_module": "@jupyter-widgets/base",
      "model_module_version": "2.0.0",
      "model_name": "LayoutModel",
      "state": {}
     },
     "a30a825eae7a4073bc3bf5283e0428ca": {
      "model_module": "@jupyter-widgets/controls",
      "model_module_version": "2.0.0",
      "model_name": "FloatSliderModel",
      "state": {
       "behavior": "drag-tap",
       "description": "xmax:",
       "layout": "IPY_MODEL_86647e74e2a846a6a1eef86799f90a25",
       "max": 10,
       "min": -10,
       "style": "IPY_MODEL_b159b253ad354759b280e21c6717ebec",
       "value": 1
      }
     },
     "b159b253ad354759b280e21c6717ebec": {
      "model_module": "@jupyter-widgets/controls",
      "model_module_version": "2.0.0",
      "model_name": "SliderStyleModel",
      "state": {
       "description_width": ""
      }
     },
     "b853b745773e4503bb9fe78c58bd8fdc": {
      "model_module": "@jupyter-widgets/controls",
      "model_module_version": "2.0.0",
      "model_name": "DropdownModel",
      "state": {
       "_options_labels": [
        "Uniform",
        "Normal",
        "Exponential"
       ],
       "description": "Distribution:",
       "index": 0,
       "layout": "IPY_MODEL_4e8dc54ca13e41c1b5bd093c8544b241",
       "style": "IPY_MODEL_c80c7b7dc379456c8148b667bb952aea"
      }
     },
     "bab9809b5e8b4a28ae4f6a1c4b4593af": {
      "model_module": "@jupyter-widgets/base",
      "model_module_version": "2.0.0",
      "model_name": "LayoutModel",
      "state": {}
     },
     "c1bf68c84ae044bc9ea5d6167a1084d3": {
      "model_module": "@jupyter-widgets/controls",
      "model_module_version": "2.0.0",
      "model_name": "SliderStyleModel",
      "state": {
       "description_width": ""
      }
     },
     "c80c7b7dc379456c8148b667bb952aea": {
      "model_module": "@jupyter-widgets/controls",
      "model_module_version": "2.0.0",
      "model_name": "DescriptionStyleModel",
      "state": {
       "description_width": ""
      }
     },
     "d40d724f367549e7812db0ff83add00f": {
      "model_module": "@jupyter-widgets/base",
      "model_module_version": "2.0.0",
      "model_name": "LayoutModel",
      "state": {}
     },
     "da690d3ed50649bcb2fa90020ed43bf1": {
      "model_module": "@jupyter-widgets/base",
      "model_module_version": "2.0.0",
      "model_name": "LayoutModel",
      "state": {}
     },
     "dda6b74e7c2b4f4190e76b73d056972d": {
      "model_module": "@jupyter-widgets/controls",
      "model_module_version": "2.0.0",
      "model_name": "FloatSliderModel",
      "state": {
       "behavior": "drag-tap",
       "description": "xmin:",
       "layout": "IPY_MODEL_a2902c0fa69e45f1aa3d03b6c316966f",
       "max": 10,
       "min": -10,
       "style": "IPY_MODEL_36f662615d7a4012b768f9be8d2bca3e"
      }
     },
     "deb16e55fbc24c98bf8f422ec126165e": {
      "model_module": "@jupyter-widgets/controls",
      "model_module_version": "2.0.0",
      "model_name": "VBoxModel",
      "state": {
       "children": [
        "IPY_MODEL_b853b745773e4503bb9fe78c58bd8fdc",
        "IPY_MODEL_3a01100508cb4749ac10929a99f93dcc"
       ],
       "layout": "IPY_MODEL_bab9809b5e8b4a28ae4f6a1c4b4593af"
      }
     },
     "e07827914ab84defbe48d93b402e5853": {
      "model_module": "@jupyter-widgets/controls",
      "model_module_version": "2.0.0",
      "model_name": "VBoxModel",
      "state": {
       "children": [
        "IPY_MODEL_e95a918342f64cca992afc151663c850"
       ],
       "layout": "IPY_MODEL_56f672d4bab24cfebae20be32732ed31"
      }
     },
     "e95a918342f64cca992afc151663c850": {
      "model_module": "@jupyter-widgets/controls",
      "model_module_version": "2.0.0",
      "model_name": "IntSliderModel",
      "state": {
       "behavior": "drag-tap",
       "description": "r (moment):",
       "layout": "IPY_MODEL_8c26444fa7c3482097ce96b5112f8fe6",
       "max": 6,
       "style": "IPY_MODEL_02d8f34bd720468db2420784fdc5a67f",
       "value": 1
      }
     },
     "eab22912548e45b18e4d463c06757362": {
      "model_module": "@jupyter-widgets/controls",
      "model_module_version": "2.0.0",
      "model_name": "VBoxModel",
      "state": {
       "children": [
        "IPY_MODEL_77efa371781f4787ade9e8fd83b6328c",
        "IPY_MODEL_148e7f0f149e4787b92ca3323b43fcbf",
        "IPY_MODEL_710d6483bffc40fa8d07b7ed79b8bae1"
       ],
       "layout": "IPY_MODEL_62550424045d49948e06f4ae7ae2b644"
      }
     },
     "fa1c5d1248be4074ba39b589b466be22": {
      "model_module": "@jupyter-widgets/base",
      "model_module_version": "2.0.0",
      "model_name": "LayoutModel",
      "state": {}
     }
    },
    "version_major": 2,
    "version_minor": 0
   }
  }
 },
 "nbformat": 4,
 "nbformat_minor": 5
}
